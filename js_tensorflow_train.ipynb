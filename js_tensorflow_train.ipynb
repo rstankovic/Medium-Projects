{
 "cells": [
  {
   "cell_type": "code",
   "execution_count": 1,
   "metadata": {},
   "outputs": [],
   "source": [
    "import tensorflow as tf\n",
    "import numpy as np\n",
    "\n",
    "(X_train, y_train), (X_test, y_test) = tf.keras.datasets.mnist.load_data()"
   ]
  },
  {
   "cell_type": "code",
   "execution_count": 2,
   "metadata": {},
   "outputs": [],
   "source": [
    "input_shape = [28, 28, 1]\n",
    "\n",
    "X_train = tf.reshape(X_train, [X_train.shape[0]] + input_shape)\n",
    "X_test = tf.reshape(X_test, [X_test.shape[0]] + input_shape)\n",
    "\n",
    "X_train = tf.cast(X_train, dtype=tf.float32)\n",
    "X_test = tf.cast(X_test, dtype=tf.float32)\n",
    "\n",
    "X_train /= 255\n",
    "X_test /= 255"
   ]
  },
  {
   "cell_type": "code",
   "execution_count": 3,
   "metadata": {},
   "outputs": [
    {
     "name": "stderr",
     "output_type": "stream",
     "text": [
      "/opt/anaconda3/lib/python3.7/site-packages/sklearn/preprocessing/_encoders.py:415: FutureWarning: The handling of integer data will change in version 0.22. Currently, the categories are determined based on the range [0, max(values)], while in the future they will be determined based on the unique values.\n",
      "If you want the future behaviour and silence this warning, you can specify \"categories='auto'\".\n",
      "In case you used a LabelEncoder before this OneHotEncoder to convert the categories to integers, then you can now use the OneHotEncoder directly.\n",
      "  warnings.warn(msg, FutureWarning)\n",
      "/opt/anaconda3/lib/python3.7/site-packages/sklearn/preprocessing/_encoders.py:415: FutureWarning: The handling of integer data will change in version 0.22. Currently, the categories are determined based on the range [0, max(values)], while in the future they will be determined based on the unique values.\n",
      "If you want the future behaviour and silence this warning, you can specify \"categories='auto'\".\n",
      "In case you used a LabelEncoder before this OneHotEncoder to convert the categories to integers, then you can now use the OneHotEncoder directly.\n",
      "  warnings.warn(msg, FutureWarning)\n"
     ]
    }
   ],
   "source": [
    "from sklearn.preprocessing import OneHotEncoder\n",
    "\n",
    "y_train = tf.reshape(y_train, [-1, 1])\n",
    "y_test = tf.reshape(y_test, [-1, 1])\n",
    "\n",
    "encoder = OneHotEncoder(sparse = False)\n",
    "\n",
    "y_train = tf.convert_to_tensor(encoder.fit_transform(y_train))\n",
    "y_test = tf.convert_to_tensor(encoder.fit_transform(y_test))"
   ]
  },
  {
   "cell_type": "code",
   "execution_count": 4,
   "metadata": {},
   "outputs": [
    {
     "name": "stdout",
     "output_type": "stream",
     "text": [
      "(60000, 28, 28, 1)\n",
      "(60000, 10)\n"
     ]
    }
   ],
   "source": [
    "print(X_train.shape)\n",
    "print(y_train.shape)"
   ]
  },
  {
   "cell_type": "code",
   "execution_count": 5,
   "metadata": {},
   "outputs": [
    {
     "name": "stdout",
     "output_type": "stream",
     "text": [
      "Epoch 1/10\n",
      "1875/1875 [==============================] - 21s 11ms/step - loss: 1.5505 - accuracy: 0.9151 - val_loss: 1.5111 - val_accuracy: 0.9522\n",
      "Epoch 2/10\n",
      "1875/1875 [==============================] - 21s 11ms/step - loss: 1.4984 - accuracy: 0.9644 - val_loss: 1.4972 - val_accuracy: 0.9647\n",
      "Epoch 3/10\n",
      "1875/1875 [==============================] - 21s 11ms/step - loss: 1.4874 - accuracy: 0.9750 - val_loss: 1.4924 - val_accuracy: 0.9697\n",
      "Epoch 4/10\n",
      "1875/1875 [==============================] - 22s 12ms/step - loss: 1.4821 - accuracy: 0.9797 - val_loss: 1.4861 - val_accuracy: 0.9762\n",
      "Epoch 5/10\n",
      "1875/1875 [==============================] - 22s 12ms/step - loss: 1.4781 - accuracy: 0.9834 - val_loss: 1.4835 - val_accuracy: 0.9778\n",
      "Epoch 6/10\n",
      "1875/1875 [==============================] - 24s 13ms/step - loss: 1.4760 - accuracy: 0.9856 - val_loss: 1.4803 - val_accuracy: 0.9812\n",
      "Epoch 7/10\n",
      "1875/1875 [==============================] - 21s 11ms/step - loss: 1.4740 - accuracy: 0.9876 - val_loss: 1.4794 - val_accuracy: 0.9819\n",
      "Epoch 8/10\n",
      "1875/1875 [==============================] - 22s 12ms/step - loss: 1.4725 - accuracy: 0.9891 - val_loss: 1.4801 - val_accuracy: 0.9813\n",
      "Epoch 9/10\n",
      "1875/1875 [==============================] - 21s 11ms/step - loss: 1.4713 - accuracy: 0.9901 - val_loss: 1.4803 - val_accuracy: 0.9807\n",
      "Epoch 10/10\n",
      "1875/1875 [==============================] - 22s 12ms/step - loss: 1.4711 - accuracy: 0.9904 - val_loss: 1.4800 - val_accuracy: 0.9812\n"
     ]
    }
   ],
   "source": [
    "model = tf.keras.Sequential([\n",
    "    tf.keras.layers.Conv2D(28, (3, 3), input_shape = input_shape),\n",
    "    tf.keras.layers.MaxPool2D(pool_size = (2, 2)),\n",
    "    tf.keras.layers.Flatten(),\n",
    "    tf.keras.layers.Dense(units = 128, activation = tf.nn.relu),\n",
    "    tf.keras.layers.Dense(units = 10, activation = tf.nn.softmax)\n",
    "])\n",
    "\n",
    "loss_fn = tf.keras.losses.CategoricalCrossentropy(from_logits = True)\n",
    "optimizer = tf.keras.optimizers.Adam()\n",
    "\n",
    "model.compile(optimizer = optimizer, loss = loss_fn, metrics = ['accuracy'])\n",
    "\n",
    "h = model.fit(x = X_train, y = y_train, epochs = 10, validation_data = (X_test, y_test), batch_size = 32)"
   ]
  },
  {
   "cell_type": "code",
   "execution_count": 8,
   "metadata": {},
   "outputs": [],
   "source": [
    "model.save('models/js_model.h5')"
   ]
  },
  {
   "cell_type": "code",
   "execution_count": null,
   "metadata": {},
   "outputs": [],
   "source": []
  }
 ],
 "metadata": {
  "kernelspec": {
   "display_name": "Python 3",
   "language": "python",
   "name": "python3"
  },
  "language_info": {
   "codemirror_mode": {
    "name": "ipython",
    "version": 3
   },
   "file_extension": ".py",
   "mimetype": "text/x-python",
   "name": "python",
   "nbconvert_exporter": "python",
   "pygments_lexer": "ipython3",
   "version": "3.7.4"
  }
 },
 "nbformat": 4,
 "nbformat_minor": 2
}
